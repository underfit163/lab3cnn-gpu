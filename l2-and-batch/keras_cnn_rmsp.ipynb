{
 "cells": [
  {
   "cell_type": "code",
   "execution_count": 1,
   "metadata": {},
   "outputs": [],
   "source": [
    "import matplotlib.pyplot as plt\n",
    "%matplotlib inline\n",
    "from tensorflow.keras.datasets import cifar100\n",
    "from tensorflow.keras.models import Sequential\n",
    "from tensorflow.keras.layers import Dropout, Dense, Flatten, Conv2D, MaxPooling2D, Activation, BatchNormalization\n",
    "from tensorflow.keras import utils, optimizers, regularizers"
   ]
  },
  {
   "cell_type": "markdown",
   "metadata": {},
   "source": [
    "Делим наш датасет на обучающую и тестовую выборку"
   ]
  },
  {
   "cell_type": "code",
   "execution_count": 2,
   "metadata": {},
   "outputs": [],
   "source": [
    "(train_images, train_labels), (test_images, test_labels) = cifar100.load_data()"
   ]
  },
  {
   "cell_type": "code",
   "execution_count": 3,
   "metadata": {},
   "outputs": [
    {
     "name": "stdout",
     "output_type": "stream",
     "text": [
      "train_images:  (50000, 32, 32, 3)\n",
      "test_images:  (10000, 32, 32, 3)\n",
      "train_labels:  (50000, 1)\n",
      "test_labels:  (10000, 1)\n"
     ]
    }
   ],
   "source": [
    "print('train_images: ', train_images.shape)\n",
    "print('test_images: ', test_images.shape)\n",
    "print('train_labels: ', train_labels.shape)\n",
    "print('test_labels: ', test_labels.shape)"
   ]
  },
  {
   "cell_type": "markdown",
   "metadata": {},
   "source": [
    "Нормализация данных"
   ]
  },
  {
   "cell_type": "code",
   "execution_count": 4,
   "metadata": {},
   "outputs": [],
   "source": [
    "train_labels = utils.to_categorical(train_labels, 100)\n",
    "test_labels = utils.to_categorical(test_labels, 100)\n",
    "\n",
    "train_images = train_images.astype('float32')\n",
    "test_images = test_images.astype('float32')\n",
    "\n",
    "train_images = train_images / 255\n",
    "test_images = test_images / 255"
   ]
  },
  {
   "cell_type": "markdown",
   "metadata": {},
   "source": [
    "создание модели нейронной сети"
   ]
  },
  {
   "cell_type": "code",
   "execution_count": 5,
   "metadata": {},
   "outputs": [
    {
     "name": "stdout",
     "output_type": "stream",
     "text": [
      "Model: \"sequential\"\n",
      "_________________________________________________________________\n",
      " Layer (type)                Output Shape              Param #   \n",
      "=================================================================\n",
      " conv2d (Conv2D)             (None, 32, 32, 128)       3584      \n",
      "                                                                 \n",
      " batch_normalization (BatchN  (None, 32, 32, 128)      512       \n",
      " ormalization)                                                   \n",
      "                                                                 \n",
      " activation (Activation)     (None, 32, 32, 128)       0         \n",
      "                                                                 \n",
      " conv2d_1 (Conv2D)           (None, 32, 32, 128)       147584    \n",
      "                                                                 \n",
      " batch_normalization_1 (Batc  (None, 32, 32, 128)      512       \n",
      " hNormalization)                                                 \n",
      "                                                                 \n",
      " activation_1 (Activation)   (None, 32, 32, 128)       0         \n",
      "                                                                 \n",
      " max_pooling2d (MaxPooling2D  (None, 16, 16, 128)      0         \n",
      " )                                                               \n",
      "                                                                 \n",
      " dropout (Dropout)           (None, 16, 16, 128)       0         \n",
      "                                                                 \n",
      " conv2d_2 (Conv2D)           (None, 16, 16, 256)       295168    \n",
      "                                                                 \n",
      " batch_normalization_2 (Batc  (None, 16, 16, 256)      1024      \n",
      " hNormalization)                                                 \n",
      "                                                                 \n",
      " activation_2 (Activation)   (None, 16, 16, 256)       0         \n",
      "                                                                 \n",
      " conv2d_3 (Conv2D)           (None, 16, 16, 256)       590080    \n",
      "                                                                 \n",
      " batch_normalization_3 (Batc  (None, 16, 16, 256)      1024      \n",
      " hNormalization)                                                 \n",
      "                                                                 \n",
      " activation_3 (Activation)   (None, 16, 16, 256)       0         \n",
      "                                                                 \n",
      " max_pooling2d_1 (MaxPooling  (None, 8, 8, 256)        0         \n",
      " 2D)                                                             \n",
      "                                                                 \n",
      " dropout_1 (Dropout)         (None, 8, 8, 256)         0         \n",
      "                                                                 \n",
      " conv2d_4 (Conv2D)           (None, 8, 8, 256)         590080    \n",
      "                                                                 \n",
      " batch_normalization_4 (Batc  (None, 8, 8, 256)        1024      \n",
      " hNormalization)                                                 \n",
      "                                                                 \n",
      " activation_4 (Activation)   (None, 8, 8, 256)         0         \n",
      "                                                                 \n",
      " conv2d_5 (Conv2D)           (None, 8, 8, 256)         590080    \n",
      "                                                                 \n",
      " batch_normalization_5 (Batc  (None, 8, 8, 256)        1024      \n",
      " hNormalization)                                                 \n",
      "                                                                 \n",
      " activation_5 (Activation)   (None, 8, 8, 256)         0         \n",
      "                                                                 \n",
      " max_pooling2d_2 (MaxPooling  (None, 4, 4, 256)        0         \n",
      " 2D)                                                             \n",
      "                                                                 \n",
      " dropout_2 (Dropout)         (None, 4, 4, 256)         0         \n",
      "                                                                 \n",
      " flatten (Flatten)           (None, 4096)              0         \n",
      "                                                                 \n",
      " dense (Dense)               (None, 512)               2097664   \n",
      "                                                                 \n",
      " activation_6 (Activation)   (None, 512)               0         \n",
      "                                                                 \n",
      " dropout_3 (Dropout)         (None, 512)               0         \n",
      "                                                                 \n",
      " batch_normalization_6 (Batc  (None, 512)              2048      \n",
      " hNormalization)                                                 \n",
      "                                                                 \n",
      " dense_1 (Dense)             (None, 100)               51300     \n",
      "                                                                 \n",
      "=================================================================\n",
      "Total params: 4,372,708\n",
      "Trainable params: 4,369,124\n",
      "Non-trainable params: 3,584\n",
      "_________________________________________________________________\n"
     ]
    }
   ],
   "source": [
    "dropP = 0.2\n",
    "\n",
    "model = Sequential()\n",
    "\n",
    "model.add(Conv2D(128,(3,3),padding='same',input_shape=(32,32,3)))\n",
    "model.add(BatchNormalization())\n",
    "model.add(Activation('relu'))\n",
    "model.add(Conv2D(128,(3,3),padding='same'))\n",
    "model.add(BatchNormalization())\n",
    "model.add(Activation('relu'))\n",
    "model.add(MaxPooling2D(pool_size=(2,2)))\n",
    "model.add(Dropout(dropP))\n",
    "\n",
    "model.add(Conv2D(256,(3,3),padding='same'))\n",
    "model.add(BatchNormalization())\n",
    "model.add(Activation('relu'))\n",
    "model.add(Conv2D(256,(3,3),padding='same'))\n",
    "model.add(BatchNormalization())\n",
    "model.add(Activation('relu'))\n",
    "model.add(MaxPooling2D(pool_size=(2,2)))\n",
    "model.add(Dropout(dropP))\n",
    "\n",
    "model.add(Conv2D(256,(3,3),padding='same'))\n",
    "model.add(BatchNormalization())\n",
    "model.add(Activation('relu'))\n",
    "model.add(Conv2D(256,(3,3),padding='same'))\n",
    "model.add(BatchNormalization())\n",
    "model.add(Activation('relu'))\n",
    "model.add(MaxPooling2D(pool_size=(2,2)))\n",
    "model.add(Dropout(dropP))\n",
    "\n",
    "model.add(Flatten())\n",
    "model.add(Dense(512, kernel_regularizer=regularizers.L2(1e-4)))\n",
    "model.add(Activation('relu'))\n",
    "model.add(Dropout(dropP))\n",
    "model.add(BatchNormalization())\n",
    "model.add(Dense(100,activation='softmax'))\n",
    "model.summary()"
   ]
  },
  {
   "cell_type": "markdown",
   "metadata": {},
   "source": [
    "Компиляция модели"
   ]
  },
  {
   "cell_type": "code",
   "execution_count": 6,
   "metadata": {},
   "outputs": [],
   "source": [
    "model.compile(optimizer=optimizers.RMSprop(learning_rate=1e-4),\n",
    "              loss='categorical_crossentropy',\n",
    "              metrics=['accuracy'])"
   ]
  },
  {
   "cell_type": "markdown",
   "metadata": {},
   "source": [
    "Обучение модели"
   ]
  },
  {
   "cell_type": "code",
   "execution_count": 7,
   "metadata": {},
   "outputs": [
    {
     "name": "stdout",
     "output_type": "stream",
     "text": [
      "Epoch 1/50\n",
      "782/782 [==============================] - 25s 27ms/step - loss: 4.0950 - accuracy: 0.1094 - val_loss: 3.6177 - val_accuracy: 0.1744\n",
      "Epoch 2/50\n",
      "782/782 [==============================] - 21s 27ms/step - loss: 3.3133 - accuracy: 0.2248 - val_loss: 3.2313 - val_accuracy: 0.2358\n",
      "Epoch 3/50\n",
      "782/782 [==============================] - 21s 27ms/step - loss: 2.8351 - accuracy: 0.3132 - val_loss: 2.7572 - val_accuracy: 0.3322\n",
      "Epoch 4/50\n",
      "782/782 [==============================] - 21s 27ms/step - loss: 2.5032 - accuracy: 0.3811 - val_loss: 2.4743 - val_accuracy: 0.3874\n",
      "Epoch 5/50\n",
      "782/782 [==============================] - 21s 27ms/step - loss: 2.2647 - accuracy: 0.4323 - val_loss: 2.2234 - val_accuracy: 0.4422\n",
      "Epoch 6/50\n",
      "782/782 [==============================] - 21s 27ms/step - loss: 2.0793 - accuracy: 0.4708 - val_loss: 2.1395 - val_accuracy: 0.4589\n",
      "Epoch 7/50\n",
      "782/782 [==============================] - 21s 27ms/step - loss: 1.9224 - accuracy: 0.5079 - val_loss: 2.2195 - val_accuracy: 0.4473\n",
      "Epoch 8/50\n",
      "782/782 [==============================] - 21s 27ms/step - loss: 1.7780 - accuracy: 0.5427 - val_loss: 1.9810 - val_accuracy: 0.4971\n",
      "Epoch 9/50\n",
      "782/782 [==============================] - 21s 27ms/step - loss: 1.6527 - accuracy: 0.5731 - val_loss: 2.0874 - val_accuracy: 0.4742\n",
      "Epoch 10/50\n",
      "782/782 [==============================] - 21s 27ms/step - loss: 1.5547 - accuracy: 0.5968 - val_loss: 1.8191 - val_accuracy: 0.5404\n",
      "Epoch 11/50\n",
      "782/782 [==============================] - 21s 27ms/step - loss: 1.4498 - accuracy: 0.6210 - val_loss: 1.7853 - val_accuracy: 0.5356\n",
      "Epoch 12/50\n",
      "782/782 [==============================] - 21s 27ms/step - loss: 1.3582 - accuracy: 0.6448 - val_loss: 1.7842 - val_accuracy: 0.5465\n",
      "Epoch 13/50\n",
      "782/782 [==============================] - 21s 27ms/step - loss: 1.2707 - accuracy: 0.6675 - val_loss: 1.7519 - val_accuracy: 0.5545\n",
      "Epoch 14/50\n",
      "782/782 [==============================] - 22s 28ms/step - loss: 1.1913 - accuracy: 0.6890 - val_loss: 1.7566 - val_accuracy: 0.5528\n",
      "Epoch 15/50\n",
      "782/782 [==============================] - 22s 28ms/step - loss: 1.1213 - accuracy: 0.7088 - val_loss: 1.7654 - val_accuracy: 0.5522\n",
      "Epoch 16/50\n",
      "782/782 [==============================] - 21s 27ms/step - loss: 1.0507 - accuracy: 0.7260 - val_loss: 1.7485 - val_accuracy: 0.5566\n",
      "Epoch 17/50\n",
      "782/782 [==============================] - 22s 28ms/step - loss: 0.9856 - accuracy: 0.7415 - val_loss: 1.6984 - val_accuracy: 0.5655\n",
      "Epoch 18/50\n",
      "782/782 [==============================] - 21s 27ms/step - loss: 0.9242 - accuracy: 0.7599 - val_loss: 1.7170 - val_accuracy: 0.5643\n",
      "Epoch 19/50\n",
      "782/782 [==============================] - 22s 27ms/step - loss: 0.8649 - accuracy: 0.7760 - val_loss: 1.7689 - val_accuracy: 0.5648\n",
      "Epoch 20/50\n",
      "782/782 [==============================] - 22s 28ms/step - loss: 0.8091 - accuracy: 0.7927 - val_loss: 1.6836 - val_accuracy: 0.5806\n",
      "Epoch 21/50\n",
      "782/782 [==============================] - 22s 28ms/step - loss: 0.7571 - accuracy: 0.8074 - val_loss: 1.6685 - val_accuracy: 0.5806\n",
      "Epoch 22/50\n",
      "782/782 [==============================] - 21s 27ms/step - loss: 0.7159 - accuracy: 0.8183 - val_loss: 1.6522 - val_accuracy: 0.5955\n",
      "Epoch 23/50\n",
      "782/782 [==============================] - 22s 28ms/step - loss: 0.6750 - accuracy: 0.8310 - val_loss: 1.7247 - val_accuracy: 0.5713\n",
      "Epoch 24/50\n",
      "782/782 [==============================] - 22s 28ms/step - loss: 0.6328 - accuracy: 0.8422 - val_loss: 1.6891 - val_accuracy: 0.5826\n",
      "Epoch 25/50\n",
      "782/782 [==============================] - 22s 28ms/step - loss: 0.5890 - accuracy: 0.8556 - val_loss: 1.6504 - val_accuracy: 0.5918\n",
      "Epoch 26/50\n",
      "782/782 [==============================] - 22s 28ms/step - loss: 0.5581 - accuracy: 0.8650 - val_loss: 1.6744 - val_accuracy: 0.5929\n",
      "Epoch 27/50\n",
      "782/782 [==============================] - 22s 28ms/step - loss: 0.5233 - accuracy: 0.8734 - val_loss: 1.6626 - val_accuracy: 0.5997\n",
      "Epoch 28/50\n",
      "782/782 [==============================] - 22s 28ms/step - loss: 0.4942 - accuracy: 0.8820 - val_loss: 1.6741 - val_accuracy: 0.6017\n",
      "Epoch 29/50\n",
      "782/782 [==============================] - 22s 28ms/step - loss: 0.4660 - accuracy: 0.8912 - val_loss: 1.8154 - val_accuracy: 0.5796\n",
      "Epoch 30/50\n",
      "782/782 [==============================] - 22s 28ms/step - loss: 0.4444 - accuracy: 0.8953 - val_loss: 1.6594 - val_accuracy: 0.6005\n",
      "Epoch 31/50\n",
      "782/782 [==============================] - 22s 28ms/step - loss: 0.4184 - accuracy: 0.9046 - val_loss: 1.7065 - val_accuracy: 0.6009\n",
      "Epoch 32/50\n",
      "782/782 [==============================] - 22s 28ms/step - loss: 0.4032 - accuracy: 0.9093 - val_loss: 1.8991 - val_accuracy: 0.5746\n",
      "Epoch 33/50\n",
      "782/782 [==============================] - 22s 28ms/step - loss: 0.3856 - accuracy: 0.9142 - val_loss: 1.7490 - val_accuracy: 0.5910\n",
      "Epoch 34/50\n",
      "782/782 [==============================] - 22s 28ms/step - loss: 0.3696 - accuracy: 0.9178 - val_loss: 1.7685 - val_accuracy: 0.5889\n",
      "Epoch 35/50\n",
      "782/782 [==============================] - 22s 28ms/step - loss: 0.3526 - accuracy: 0.9246 - val_loss: 1.8354 - val_accuracy: 0.5929\n",
      "Epoch 36/50\n",
      "782/782 [==============================] - 22s 28ms/step - loss: 0.3397 - accuracy: 0.9264 - val_loss: 1.7472 - val_accuracy: 0.6030\n",
      "Epoch 37/50\n",
      "782/782 [==============================] - 22s 28ms/step - loss: 0.3292 - accuracy: 0.9302 - val_loss: 1.7418 - val_accuracy: 0.6023\n",
      "Epoch 38/50\n",
      "782/782 [==============================] - 22s 28ms/step - loss: 0.3133 - accuracy: 0.9334 - val_loss: 1.8493 - val_accuracy: 0.5876\n",
      "Epoch 39/50\n",
      "782/782 [==============================] - 22s 28ms/step - loss: 0.3063 - accuracy: 0.9361 - val_loss: 1.8045 - val_accuracy: 0.5903\n",
      "Epoch 40/50\n",
      "782/782 [==============================] - 22s 28ms/step - loss: 0.2959 - accuracy: 0.9381 - val_loss: 1.9335 - val_accuracy: 0.5782\n",
      "Epoch 41/50\n",
      "782/782 [==============================] - 22s 28ms/step - loss: 0.2878 - accuracy: 0.9412 - val_loss: 1.8037 - val_accuracy: 0.5958\n",
      "Epoch 42/50\n",
      "782/782 [==============================] - 22s 28ms/step - loss: 0.2755 - accuracy: 0.9455 - val_loss: 1.8157 - val_accuracy: 0.5975\n",
      "Epoch 43/50\n",
      "782/782 [==============================] - 22s 28ms/step - loss: 0.2688 - accuracy: 0.9477 - val_loss: 1.7740 - val_accuracy: 0.6016\n",
      "Epoch 44/50\n",
      "782/782 [==============================] - 22s 28ms/step - loss: 0.2607 - accuracy: 0.9498 - val_loss: 1.7891 - val_accuracy: 0.6087\n",
      "Epoch 45/50\n",
      "782/782 [==============================] - 22s 28ms/step - loss: 0.2538 - accuracy: 0.9518 - val_loss: 1.9035 - val_accuracy: 0.5800\n",
      "Epoch 46/50\n",
      "782/782 [==============================] - 22s 28ms/step - loss: 0.2464 - accuracy: 0.9532 - val_loss: 1.8876 - val_accuracy: 0.6015\n",
      "Epoch 47/50\n",
      "782/782 [==============================] - 22s 28ms/step - loss: 0.2434 - accuracy: 0.9536 - val_loss: 1.8120 - val_accuracy: 0.6060\n",
      "Epoch 48/50\n",
      "782/782 [==============================] - 22s 28ms/step - loss: 0.2420 - accuracy: 0.9532 - val_loss: 1.8236 - val_accuracy: 0.6115\n",
      "Epoch 49/50\n",
      "782/782 [==============================] - 22s 28ms/step - loss: 0.2302 - accuracy: 0.9586 - val_loss: 1.9198 - val_accuracy: 0.5971\n",
      "Epoch 50/50\n",
      "782/782 [==============================] - 22s 28ms/step - loss: 0.2260 - accuracy: 0.9588 - val_loss: 1.8494 - val_accuracy: 0.6057\n"
     ]
    }
   ],
   "source": [
    "epochs = 50\n",
    "batch_size = 64\n",
    "\n",
    "hist = model.fit(train_images, train_labels, batch_size=batch_size, validation_data=(test_images, test_labels),\n",
    "                 epochs=epochs)"
   ]
  },
  {
   "cell_type": "markdown",
   "metadata": {},
   "source": [
    "Проверка точности предсказания"
   ]
  },
  {
   "cell_type": "code",
   "execution_count": 8,
   "metadata": {},
   "outputs": [
    {
     "name": "stdout",
     "output_type": "stream",
     "text": [
      "313/313 [==============================] - 2s 6ms/step - loss: 1.8494 - accuracy: 0.6058\n"
     ]
    }
   ],
   "source": [
    "test_loss, test_acc = model.evaluate(test_images, test_labels)"
   ]
  },
  {
   "cell_type": "markdown",
   "metadata": {},
   "source": [
    "Графики"
   ]
  },
  {
   "cell_type": "code",
   "execution_count": 9,
   "metadata": {},
   "outputs": [
    {
     "data": {
      "text/plain": "<Figure size 640x480 with 1 Axes>",
      "image/png": "[encoded data removed]"
     },
     "metadata": {},
     "output_type": "display_data"
    }
   ],
   "source": [
    "plt.plot(hist.history['accuracy'])\n",
    "plt.plot(hist.history['val_accuracy'])\n",
    "plt.title('Model accuracy')\n",
    "plt.ylabel('Accuracy')\n",
    "plt.xlabel('Epoch')\n",
    "plt.legend(['Train', 'Test'], loc='upper left')\n",
    "plt.show()"
   ]
  },
  {
   "cell_type": "code",
   "execution_count": 10,
   "metadata": {},
   "outputs": [
    {
     "data": {
      "text/plain": "<Figure size 640x480 with 1 Axes>",
      "image/png": "[encoded data removed]"
     },
     "metadata": {},
     "output_type": "display_data"
    },
    {
     "name": "stdout",
     "output_type": "stream",
     "text": [
      "None\n"
     ]
    }
   ],
   "source": [
    "plt.plot(hist.history['loss'])\n",
    "plt.plot(hist.history['val_loss'])\n",
    "plt.title('Model loss')\n",
    "plt.ylabel('Loss')\n",
    "plt.xlabel('Epoch')\n",
    "plt.legend(['Train', 'Test'], loc='upper left')\n",
    "print(plt.show())"
   ]
  }
 ],
 "metadata": {
  "kernelspec": {
   "name": "tensorflow-gpu",
   "language": "python",
   "display_name": "Python 3.9 (tensorflow-gpu)"
  },
  "language_info": {
   "codemirror_mode": {
    "name": "ipython",
    "version": 3
   },
   "file_extension": ".py",
   "mimetype": "text/x-python",
   "name": "python",
   "nbconvert_exporter": "python",
   "pygments_lexer": "ipython3",
   "version": "3.10.8"
  }
 },
 "nbformat": 4,
 "nbformat_minor": 1
}
